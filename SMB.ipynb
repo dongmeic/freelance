{
 "cells": [
  {
   "cell_type": "code",
   "execution_count": 2,
   "metadata": {
    "collapsed": false
   },
   "outputs": [
    {
     "ename": "ModuleNotFoundError",
     "evalue": "No module named 'rasterio'",
     "output_type": "error",
     "traceback": [
      "\u001b[0;31m---------------------------------------------------------------------------\u001b[0m",
      "\u001b[0;31mModuleNotFoundError\u001b[0m                       Traceback (most recent call last)",
      "\u001b[0;32m<ipython-input-2-4a72f418400c>\u001b[0m in \u001b[0;36m<module>\u001b[0;34m()\u001b[0m\n\u001b[0;32m----> 1\u001b[0;31m \u001b[0;32mimport\u001b[0m \u001b[0mrasterio\u001b[0m\u001b[0;34m\u001b[0m\u001b[0m\n\u001b[0m\u001b[1;32m      2\u001b[0m \u001b[0;31m#from rasterio import plot\u001b[0m\u001b[0;34m\u001b[0m\u001b[0;34m\u001b[0m\u001b[0m\n",
      "\u001b[0;31mModuleNotFoundError\u001b[0m: No module named 'rasterio'"
     ]
    }
   ],
   "source": [
    "import rasterio\n",
    "#from rasterio import plot"
   ]
  },
  {
   "cell_type": "code",
   "execution_count": 2,
   "metadata": {
    "collapsed": false
   },
   "outputs": [],
   "source": [
    "#import required libraries\n",
    "import matplotlib.pyplot as plt\n",
    "%matplotlib inline"
   ]
  },
  {
   "cell_type": "code",
   "execution_count": 5,
   "metadata": {
    "collapsed": false
   },
   "outputs": [
    {
     "ename": "NameError",
     "evalue": "name 'rasterio' is not defined",
     "output_type": "error",
     "traceback": [
      "\u001b[0;31m---------------------------------------------------------------------------\u001b[0m",
      "\u001b[0;31mNameError\u001b[0m                                 Traceback (most recent call last)",
      "\u001b[0;32m<ipython-input-5-d050cf376fb8>\u001b[0m in \u001b[0;36m<module>\u001b[0;34m()\u001b[0m\n\u001b[1;32m      3\u001b[0m \u001b[0;31m#import bands as separate 1 band raster\u001b[0m\u001b[0;34m\u001b[0m\u001b[0;34m\u001b[0m\u001b[0m\n\u001b[1;32m      4\u001b[0m \u001b[0mimagePath\u001b[0m \u001b[0;34m=\u001b[0m \u001b[0;34m'../Sentinel2/GRANULE/L1C_T11SKB_A007675_20180825T184430/IMG_DATA/'\u001b[0m\u001b[0;34m\u001b[0m\u001b[0m\n\u001b[0;32m----> 5\u001b[0;31m \u001b[0mband2\u001b[0m \u001b[0;34m=\u001b[0m \u001b[0mrasterio\u001b[0m\u001b[0;34m.\u001b[0m\u001b[0mopen\u001b[0m\u001b[0;34m(\u001b[0m\u001b[0mimagePath\u001b[0m\u001b[0;34m+\u001b[0m\u001b[0;34m'T11SKB_20180825T183909_B02.jp2'\u001b[0m\u001b[0;34m,\u001b[0m \u001b[0mdriver\u001b[0m\u001b[0;34m=\u001b[0m\u001b[0;34m'JP2OpenJPEG'\u001b[0m\u001b[0;34m)\u001b[0m \u001b[0;31m#blue\u001b[0m\u001b[0;34m\u001b[0m\u001b[0m\n\u001b[0m\u001b[1;32m      6\u001b[0m \u001b[0mband3\u001b[0m \u001b[0;34m=\u001b[0m \u001b[0mrasterio\u001b[0m\u001b[0;34m.\u001b[0m\u001b[0mopen\u001b[0m\u001b[0;34m(\u001b[0m\u001b[0mimagePath\u001b[0m\u001b[0;34m+\u001b[0m\u001b[0;34m'T11SKB_20180825T183909_B03.jp2'\u001b[0m\u001b[0;34m,\u001b[0m \u001b[0mdriver\u001b[0m\u001b[0;34m=\u001b[0m\u001b[0;34m'JP2OpenJPEG'\u001b[0m\u001b[0;34m)\u001b[0m \u001b[0;31m#green\u001b[0m\u001b[0;34m\u001b[0m\u001b[0m\n\u001b[1;32m      7\u001b[0m \u001b[0mband4\u001b[0m \u001b[0;34m=\u001b[0m \u001b[0mrasterio\u001b[0m\u001b[0;34m.\u001b[0m\u001b[0mopen\u001b[0m\u001b[0;34m(\u001b[0m\u001b[0mimagePath\u001b[0m\u001b[0;34m+\u001b[0m\u001b[0;34m'T11SKB_20180825T183909_B04.jp2'\u001b[0m\u001b[0;34m,\u001b[0m \u001b[0mdriver\u001b[0m\u001b[0;34m=\u001b[0m\u001b[0;34m'JP2OpenJPEG'\u001b[0m\u001b[0;34m)\u001b[0m \u001b[0;31m#red\u001b[0m\u001b[0;34m\u001b[0m\u001b[0m\n",
      "\u001b[0;31mNameError\u001b[0m: name 'rasterio' is not defined"
     ]
    }
   ],
   "source": [
    "\n",
    "\n",
    "#import bands as separate 1 band raster\n",
    "imagePath = '../Sentinel2/GRANULE/L1C_T11SKB_A007675_20180825T184430/IMG_DATA/'\n",
    "band2 = rasterio.open(imagePath+'T11SKB_20180825T183909_B02.jp2', driver='JP2OpenJPEG') #blue\n",
    "band3 = rasterio.open(imagePath+'T11SKB_20180825T183909_B03.jp2', driver='JP2OpenJPEG') #green\n",
    "band4 = rasterio.open(imagePath+'T11SKB_20180825T183909_B04.jp2', driver='JP2OpenJPEG') #red\n",
    "band8 = rasterio.open(imagePath+'T11SKB_20180825T183909_B08.jp2', driver='JP2OpenJPEG') #nir\n",
    "\n",
    "#number of raster bands\n",
    "band4.count\n",
    "\n",
    "#number of raster columns\n",
    "band4.width\n",
    "\n",
    "#number of raster rows\n",
    "band4.height\n",
    "\n",
    "#plot band \n",
    "plot.show(band4)\n",
    "\n",
    "#type of raster byte\n",
    "band4.dtypes[0]\n",
    "\n",
    "#raster sytem of reference\n",
    "band4.crs\n",
    "\n",
    "#raster transform parameters\n",
    "band4.transform\n",
    "\n",
    "#raster values as matrix array\n",
    "band4.read(1)\n",
    "\n",
    "#multiple band representation\n",
    "fig, (ax1, ax2, ax3) = plt.subplots(1, 3, figsize=(12, 4))\n",
    "plot.show(band2, ax=ax1, cmap='Blues')\n",
    "plot.show(band3, ax=ax2, cmap='Greens')\n",
    "plot.show(band4, ax=ax3, cmap='Reds')\n",
    "fig.tight_layout()\n",
    "\n",
    "#export true color image\n",
    "trueColor = rasterio.open('../Output/SentinelTrueColor2.tiff','w',driver='Gtiff',\n",
    "                         width=band4.width, height=band4.height,\n",
    "                         count=3,\n",
    "                         crs=band4.crs,\n",
    "                         transform=band4.transform,\n",
    "                         dtype=band4.dtypes[0]\n",
    "                         )\n",
    "trueColor.write(band2.read(1),3) #blue\n",
    "trueColor.write(band3.read(1),2) #green\n",
    "trueColor.write(band4.read(1),1) #red\n",
    "trueColor.close()\n",
    "\n",
    "src = rasterio.open(r\"../Output/SentinelTrueColor2.tiff\", count=3)\n",
    "plot.show(src)\n",
    "\n",
    "#export false color image\n",
    "falseColor = rasterio.open('../Output/SentinelFalseColor.tiff', 'w', driver='Gtiff',\n",
    "                          width=band2.width, height=band2.height,\n",
    "                          count=3,\n",
    "                          crs=band2.crs,\n",
    "                          transform=band2.transform,\n",
    "                          dtype='uint16'                   \n",
    "                         )\n",
    "falseColor.write(band3.read(1),3) #Blue\n",
    "falseColor.write(band4.read(1),2) #Green\n",
    "falseColor.write(band8.read(1),1) #Red\n",
    "falseColor.close()\n",
    "\n",
    "#generate histogram\n",
    "trueColor = rasterio.open('../Output/SentinelTrueColor2.tiff')\n",
    "plot.show_hist(trueColor, bins=50, lw=0.0, stacked=False, alpha=0.3, histtype='stepfilled', title=\"Histogram\")\n",
    "\n"
   ]
  },
  {
   "cell_type": "code",
   "execution_count": null,
   "metadata": {
    "collapsed": true
   },
   "outputs": [],
   "source": []
  }
 ],
 "metadata": {
  "kernelspec": {
   "display_name": "Python 3",
   "language": "python",
   "name": "python3"
  },
  "language_info": {
   "codemirror_mode": {
    "name": "ipython",
    "version": 3
   },
   "file_extension": ".py",
   "mimetype": "text/x-python",
   "name": "python",
   "nbconvert_exporter": "python",
   "pygments_lexer": "ipython3",
   "version": "3.6.2"
  }
 },
 "nbformat": 4,
 "nbformat_minor": 2
}
